{
 "cells": [
  {
   "cell_type": "markdown",
   "metadata": {},
   "source": [
    "# Bubble Answer Sheet Grader"
   ]
  },
  {
   "cell_type": "markdown",
   "metadata": {},
   "source": [
    "### import necessary libraries"
   ]
  },
  {
   "cell_type": "code",
   "execution_count": 1,
   "metadata": {},
   "outputs": [],
   "source": [
    "import numpy as np\n",
    "import cv2\n",
    "import matplotlib.pyplot as plt\n",
    "from imutils.perspective import four_point_transform\n"
   ]
  },
  {
   "cell_type": "code",
   "execution_count": null,
   "metadata": {},
   "outputs": [],
   "source": [
    "class Answer_Sheet_Grader:\n",
    "    \"\"\"Class to get image and give score of\"\"\"\n",
    "    green = (0, 255, 0) # green color\n",
    "    red = (0, 0, 255) # red color\n",
    "    white = (255, 255, 255) # white color\n",
    "\n",
    "    def __init__(self, img_path, width=800, height=800, answers[]):\n",
    "        \"\"\"Load image from given path and resize it to desired width and height and give correct answers\"\"\"\n",
    "        self.image = cv2.imread(img_path)\n",
    "        self.image = cv2.resize(image, (width, height))\n",
    "        self.correct_answer = answers\n",
    "\n",
    "\n",
    "    def gray_image(self):\n",
    "        \"\"\"make image gray\"\"\"\n",
    "        self.gray = cv2.cvtColor(self.image, cv2.COLOR_BGR2GRAY)\n",
    "\n",
    "\n",
    "    def pre_process(self, GaussianBlur_x=5, GaussianBlur_y=5, medianBlur=5):\n",
    "        \"\"\"do this for denoising image\"\"\"\n",
    "        self.pre_processed_img = cv2.GaussianBlur(self.gray, (GaussianBlur_x, GaussianBlur_y), 0) # remove Gaussian noise\n",
    "        self.pre_processed_img = cv2.medianBlur(self.pre_processed_img, medianBlur) # remove pepper salt noise\n",
    "\n",
    "    \n",
    "    def detect_edge(self, threshold1=10, threshold2=70):\n",
    "        self.edge_img = cv2.Canny(pre_processed_img, threshold1, threshold2)\n",
    "\n",
    "\n",
    "    def detect_contours(self):\n",
    "        \"\"\"detect contours of image\"\"\"\n",
    "        self.contours, _ = cv2.findContours(self.edge_img, cv2.RETR_LIST, cv2.CHAIN_APPROX_NONE)\n",
    "\n",
    "    def draw_contours(self):\n",
    "        \"\"\"draw contours of image\"\"\"\n",
    "        cv2.drawContours(self.image, self.contours, -1, green, 3)\n",
    "        plt.figure(figsize=(8,8))\n",
    "        plt.imshow(cv2.cvtColor(img, cv2.COLOR_BGR2RGB));\n",
    "        plt.title('contours of Image'), plt.xticks([]), plt.yticks([]);\n",
    "\n",
    "    def get_rect_cnts(self):\n",
    "        \"\"\"get rectangle contours\"\"\"\n",
    "        self.rect_cnts = []\n",
    "        for cnt in self.contours:\n",
    "            # approximate the contour\n",
    "            peri = cv2.arcLength(cnt, True)\n",
    "            approx = cv2.approxPolyDP(cnt, 0.02 * peri, True)\n",
    "            # if the approximated contour is a rectangle ...\n",
    "            if len(approx) == 4:\n",
    "                # append it to our list\n",
    "                rect_cnts.append(approx)\n",
    "        # sort the contours from biggest to smallest\n",
    "        self.rect_cnts = sorted(rect_cnts, key=cv2.contourArea, reverse=True)\n",
    "\n",
    "\n"
   ]
  }
 ],
 "metadata": {
  "kernelspec": {
   "display_name": "Python 3.10.4 64-bit",
   "language": "python",
   "name": "python3"
  },
  "language_info": {
   "codemirror_mode": {
    "name": "ipython",
    "version": 3
   },
   "file_extension": ".py",
   "mimetype": "text/x-python",
   "name": "python",
   "nbconvert_exporter": "python",
   "pygments_lexer": "ipython3",
   "version": "3.10.4"
  },
  "orig_nbformat": 4,
  "vscode": {
   "interpreter": {
    "hash": "a91ed9f5405b57bb39d5d851efc4c485fb146c9fd819b91d898517c4d65cc996"
   }
  }
 },
 "nbformat": 4,
 "nbformat_minor": 2
}
